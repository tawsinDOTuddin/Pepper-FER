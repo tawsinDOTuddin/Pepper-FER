{
  "nbformat": 4,
  "nbformat_minor": 0,
  "metadata": {
    "accelerator": "GPU",
    "colab": {
      "name": "EfficientNetV2-FER",
      "provenance": [],
      "collapsed_sections": []
    },
    "kernelspec": {
      "display_name": "Python 3",
      "name": "python3"
    }
  },
  "cells": [
    {
      "cell_type": "markdown",
      "metadata": {
        "id": "oYM61xrTsP5d"
      },
      "source": [
        "# EfficientNetV2 with tf-hub\n"
      ]
    },
    {
      "cell_type": "code",
      "source": [
        "from google.colab import drive\n",
        "drive.mount('/content/drive')"
      ],
      "metadata": {
        "id": "rho45n_Y1sZk",
        "colab": {
          "base_uri": "https://localhost:8080/"
        },
        "outputId": "7e7735c5-9e30-48e3-d344-2824b1f79391"
      },
      "execution_count": null,
      "outputs": [
        {
          "output_type": "stream",
          "name": "stdout",
          "text": [
            "Mounted at /content/drive\n"
          ]
        }
      ]
    },
    {
      "cell_type": "markdown",
      "metadata": {
        "id": "MfBg1C5NB3X0"
      },
      "source": [
        "<table class=\"tfo-notebook-buttons\" align=\"left\">\n",
        "<td>\n",
        "  <a target=\"_blank\"  href=\"https://github.com/google/automl/blob/master/efficientnetv2/tfhub.ipynb\">\n",
        "    <img src=\"https://www.tensorflow.org/images/GitHub-Mark-32px.png\" />View source on github\n",
        "  </a>\n",
        "</td><td>\n",
        "  <a target=\"_blank\"  href=\"https://colab.sandbox.google.com/github/google/automl/blob/master/efficientnetv2/tfhub.ipynb\">\n",
        "    <img width=32px src=\"https://www.tensorflow.org/images/colab_logo_32px.png\" />Run in Google Colab</a>\n",
        "</td><td>\n",
        "    <!----<a href=\"https://tfhub.dev/google/collections/image/1\"><img src=\"https://www.tensorflow.org/images/hub_logo_32px.png\" />TF Hub models</a>--->\n",
        "  </td>\n",
        "</table>"
      ]
    },
    {
      "cell_type": "markdown",
      "metadata": {
        "id": "L1otmJgmbahf"
      },
      "source": [
        "## 1.Introduction\n",
        "\n",
        "[EfficientNetV2](https://arxiv.org/abs/2104.00298) is a family of classification models, with better accuracy, smaller size, and faster speed than previous models.\n",
        "\n",
        "\n",
        "This doc describes some examples with EfficientNetV2 tfhub. For more details, please visit the official code: https://github.com/google/automl/tree/master/efficientnetv2"
      ]
    },
    {
      "cell_type": "markdown",
      "metadata": {
        "id": "mmaHHH7Pvmth"
      },
      "source": [
        "## 2.Select the TF2 SavedModel module to use"
      ]
    },
    {
      "cell_type": "code",
      "metadata": {
        "id": "FlsEcKVeuCnf",
        "colab": {
          "base_uri": "https://localhost:8080/"
        },
        "outputId": "5def7b63-03b3-4ec8-f74e-acc240e18ee2"
      },
      "source": [
        "import itertools\n",
        "import os\n",
        "\n",
        "import matplotlib.pylab as plt\n",
        "import numpy as np\n",
        "\n",
        "import tensorflow as tf\n",
        "import tensorflow_hub as hub\n",
        "\n",
        "print('TF version:', tf.__version__)\n",
        "print('Hub version:', hub.__version__)\n",
        "print('Phsical devices:', tf.config.list_physical_devices())\n",
        "\n",
        "def get_hub_url_and_isize(model_name, ckpt_type, hub_type):\n",
        "  if ckpt_type == '1k':\n",
        "    ckpt_type = ''  # json doesn't support empty string\n",
        "  else:\n",
        "    ckpt_type = '-' + ckpt_type  # add '-' as prefix\n",
        "  \n",
        "  hub_url_map = {\n",
        "    'efficientnetv2-b0': f'gs://cloud-tpu-checkpoints/efficientnet/v2/hub/efficientnetv2-b0/{hub_type}',\n",
        "    'efficientnetv2-b1': f'gs://cloud-tpu-checkpoints/efficientnet/v2/hub/efficientnetv2-b1/{hub_type}',\n",
        "    'efficientnetv2-b2': f'gs://cloud-tpu-checkpoints/efficientnet/v2/hub/efficientnetv2-b2/{hub_type}',\n",
        "    'efficientnetv2-b3': f'gs://cloud-tpu-checkpoints/efficientnet/v2/hub/efficientnetv2-b3/{hub_type}',\n",
        "    'efficientnetv2-s':  f'gs://cloud-tpu-checkpoints/efficientnet/v2/hub/efficientnetv2-s/{hub_type}',\n",
        "    'efficientnetv2-m':  f'gs://cloud-tpu-checkpoints/efficientnet/v2/hub/efficientnetv2-m/{hub_type}',\n",
        "    'efficientnetv2-l':  f'gs://cloud-tpu-checkpoints/efficientnet/v2/hub/efficientnetv2-l/{hub_type}',\n",
        "\n",
        "    'efficientnetv2-b0-21k': f'gs://cloud-tpu-checkpoints/efficientnet/v2/hub/efficientnetv2-b0-21k/{hub_type}',\n",
        "    'efficientnetv2-b1-21k': f'gs://cloud-tpu-checkpoints/efficientnet/v2/hub/efficientnetv2-b1-21k/{hub_type}',\n",
        "    'efficientnetv2-b2-21k': f'gs://cloud-tpu-checkpoints/efficientnet/v2/hub/efficientnetv2-b2-21k/{hub_type}',\n",
        "    'efficientnetv2-b3-21k': f'gs://cloud-tpu-checkpoints/efficientnet/v2/hub/efficientnetv2-b3-21k/{hub_type}',\n",
        "    'efficientnetv2-s-21k':  f'gs://cloud-tpu-checkpoints/efficientnet/v2/hub/efficientnetv2-s-21k/{hub_type}',\n",
        "    'efficientnetv2-m-21k':  f'gs://cloud-tpu-checkpoints/efficientnet/v2/hub/efficientnetv2-m-21k/{hub_type}',\n",
        "    'efficientnetv2-l-21k':  f'gs://cloud-tpu-checkpoints/efficientnet/v2/hub/efficientnetv2-l-21k/{hub_type}',\n",
        "    'efficientnetv2-xl-21k':  f'gs://cloud-tpu-checkpoints/efficientnet/v2/hub/efficientnetv2-xl-21k/{hub_type}',\n",
        "\n",
        "    'efficientnetv2-b0-21k-ft1k': f'gs://cloud-tpu-checkpoints/efficientnet/v2/hub/efficientnetv2-b0-21k-ft1k/{hub_type}',\n",
        "    'efficientnetv2-b1-21k-ft1k': f'gs://cloud-tpu-checkpoints/efficientnet/v2/hub/efficientnetv2-b1-21k-ft1k/{hub_type}',\n",
        "    'efficientnetv2-b2-21k-ft1k': f'gs://cloud-tpu-checkpoints/efficientnet/v2/hub/efficientnetv2-b2-21k-ft1k/{hub_type}',\n",
        "    'efficientnetv2-b3-21k-ft1k': f'gs://cloud-tpu-checkpoints/efficientnet/v2/hub/efficientnetv2-b3-21k-ft1k/{hub_type}',\n",
        "    'efficientnetv2-s-21k-ft1k':  f'gs://cloud-tpu-checkpoints/efficientnet/v2/hub/efficientnetv2-s-21k-ft1k/{hub_type}',\n",
        "    'efficientnetv2-m-21k-ft1k':  f'gs://cloud-tpu-checkpoints/efficientnet/v2/hub/efficientnetv2-m-21k-ft1k/{hub_type}',\n",
        "    'efficientnetv2-l-21k-ft1k':  f'gs://cloud-tpu-checkpoints/efficientnet/v2/hub/efficientnetv2-l-21k-ft1k/{hub_type}',\n",
        "    'efficientnetv2-xl-21k-ft1k':  f'gs://cloud-tpu-checkpoints/efficientnet/v2/hub/efficientnetv2-xl-21k-ft1k/{hub_type}',\n",
        "      \n",
        "    # efficientnetv1\n",
        "    'efficientnet_b0': f'https://tfhub.dev/tensorflow/efficientnet/b0/{hub_type}/1',\n",
        "    'efficientnet_b1': f'https://tfhub.dev/tensorflow/efficientnet/b1/{hub_type}/1',\n",
        "    'efficientnet_b2': f'https://tfhub.dev/tensorflow/efficientnet/b2/{hub_type}/1',\n",
        "    'efficientnet_b3': f'https://tfhub.dev/tensorflow/efficientnet/b3/{hub_type}/1',\n",
        "    'efficientnet_b4': f'https://tfhub.dev/tensorflow/efficientnet/b4/{hub_type}/1',\n",
        "    'efficientnet_b5': f'https://tfhub.dev/tensorflow/efficientnet/b5/{hub_type}/1',\n",
        "    'efficientnet_b6': f'https://tfhub.dev/tensorflow/efficientnet/b6/{hub_type}/1',\n",
        "    'efficientnet_b7': f'https://tfhub.dev/tensorflow/efficientnet/b7/{hub_type}/1',\n",
        "  }\n",
        "  \n",
        "  image_size_map = {\n",
        "    'efficientnetv2-b0': 224,\n",
        "    'efficientnetv2-b1': 240,\n",
        "    'efficientnetv2-b2': 260,\n",
        "    'efficientnetv2-b3': 300,\n",
        "    'efficientnetv2-s':  384,\n",
        "    'efficientnetv2-m':  480,\n",
        "    'efficientnetv2-l':  480,\n",
        "    'efficientnetv2-xl':  512,\n",
        "  \n",
        "    'efficientnet_b0': 224,\n",
        "    'efficientnet_b1': 240,\n",
        "    'efficientnet_b2': 260,\n",
        "    'efficientnet_b3': 300,\n",
        "    'efficientnet_b4': 380,\n",
        "    'efficientnet_b5': 456,\n",
        "    'efficientnet_b6': 528,\n",
        "    'efficientnet_b7': 600,\n",
        "  }\n",
        "  \n",
        "  hub_url = hub_url_map.get(model_name + ckpt_type)\n",
        "  image_size = image_size_map.get(model_name, 224)\n",
        "  return hub_url, image_size\n",
        "\n",
        "\n",
        "def get_imagenet_labels(filename):\n",
        "  labels = []\n",
        "  with open(filename, 'r') as f:\n",
        "    for line in f:\n",
        "      labels.append(line.split('\\t')[1][:-1])  # split and remove line break.\n",
        "  return labels\n"
      ],
      "execution_count": null,
      "outputs": [
        {
          "output_type": "stream",
          "name": "stdout",
          "text": [
            "TF version: 2.7.0\n",
            "Hub version: 0.12.0\n",
            "Phsical devices: [PhysicalDevice(name='/physical_device:CPU:0', device_type='CPU'), PhysicalDevice(name='/physical_device:GPU:0', device_type='GPU')]\n"
          ]
        }
      ]
    },
    {
      "cell_type": "markdown",
      "metadata": {
        "id": "bB39DLaO5NGi"
      },
      "source": [
        "## 3.2 ImageNet21k checkpoint"
      ]
    },
    {
      "cell_type": "markdown",
      "metadata": {
        "id": "c_12xwDuZFOQ"
      },
      "source": [
        "Get hub_url and image_size\n"
      ]
    },
    {
      "cell_type": "code",
      "metadata": {
        "id": "50FYNIb1dmJH"
      },
      "source": [
        "# Build model\n",
        "import tensorflow_hub as hub\n",
        "model_name = 'efficientnetv2-b0' #@param {type:'string'}\n",
        "ckpt_type = '21k'   # @param ['21k', '21k-ft1k', '1k']\n",
        "hub_type = 'feature-vector' # @param ['feature-vector']\n",
        "batch_size =  32#@param {type:\"integer\"}\n",
        "hub_url, image_size = get_hub_url_and_isize(model_name, ckpt_type, hub_type)"
      ],
      "execution_count": null,
      "outputs": []
    },
    {
      "cell_type": "markdown",
      "metadata": {
        "id": "lus9bIA-bQgj"
      },
      "source": [
        "Get dataset"
      ]
    },
    {
      "cell_type": "code",
      "source": [
        "import numpy as np\n",
        "import pandas as pd \n",
        "import matplotlib.pyplot as plt\n",
        "import random\n",
        "import os\n",
        "from PIL import Image\n",
        "\n",
        "import h5py\n",
        "\n",
        "import matplotlib.pyplot as plt\n",
        "%matplotlib inline\n",
        "\n",
        "from keras.preprocessing.image import ImageDataGenerator\n",
        "from keras.callbacks import ModelCheckpoint, EarlyStopping\n",
        "from keras import optimizers"
      ],
      "metadata": {
        "id": "2eZECR5m5E2O"
      },
      "execution_count": null,
      "outputs": []
    },
    {
      "cell_type": "code",
      "source": [
        "BATCH_SIZE = 32\n",
        "import os\n",
        "from keras.models import Model\n",
        "from keras.applications.efficientnet import preprocess_input\n",
        "from keras.preprocessing.image import ImageDataGenerator\n",
        "from keras.callbacks import ModelCheckpoint, EarlyStopping\n",
        "from keras.layers import Dense, Dropout, Flatten\n",
        "from pathlib import Path\n",
        "import numpy as np\n",
        "train_generator = ImageDataGenerator(rotation_range=.15, \n",
        "                                     #brightness_range=[0.1, 0.7],\n",
        "                                     width_shift_range=0.2, \n",
        "                                     height_shift_range=0.2,\n",
        "                                     horizontal_flip=True, \n",
        "                                     #vertical_flip=True,\n",
        "                                     validation_split=0.20,\n",
        "                                     preprocessing_function=preprocess_input)\n",
        "\n",
        "test_generator = ImageDataGenerator(preprocessing_function=preprocess_input) "
      ],
      "metadata": {
        "id": "3bWEVZ7h4-wD"
      },
      "execution_count": null,
      "outputs": []
    },
    {
      "cell_type": "code",
      "source": [
        "train_data_dir = '/content/drive/MyDrive/COSI/Video processing and Advanced project/ferattention-master/Emotion_Classes'\n",
        "class_subset = sorted(os.listdir(train_data_dir))[:10]\n",
        "traingen = train_generator.flow_from_directory(train_data_dir,\n",
        "                                               target_size=(48, 48),\n",
        "                                               class_mode='categorical',\n",
        "                                               classes=class_subset,\n",
        "                                               subset='training',\n",
        "                                               #color_mode = 'grayscale',\n",
        "                                               batch_size=BATCH_SIZE, \n",
        "                                               shuffle=True,\n",
        "                                               seed=42)\n",
        "\n",
        "validgen = train_generator.flow_from_directory(train_data_dir,\n",
        "                                               target_size=(48, 48),\n",
        "                                               class_mode='categorical',\n",
        "                                               classes=class_subset,\n",
        "                                               subset='validation',\n",
        "                                               #color_mode = 'grayscale',\n",
        "                                               batch_size=BATCH_SIZE,\n",
        "                                               shuffle=False,\n",
        "                                               seed=42)\n"
      ],
      "metadata": {
        "colab": {
          "base_uri": "https://localhost:8080/"
        },
        "id": "WRdsxlZP43Pk",
        "outputId": "012a49ae-6b39-4343-df6f-7d1676cc3a2e"
      },
      "execution_count": null,
      "outputs": [
        {
          "output_type": "stream",
          "name": "stdout",
          "text": [
            "Found 10480 images belonging to 10 classes.\n",
            "Found 2620 images belonging to 10 classes.\n"
          ]
        }
      ]
    },
    {
      "cell_type": "code",
      "source": [
        "from keras import callbacks\n",
        "# whether to finetune the whole model or just the top layer.\n",
        "do_fine_tuning = True #@param {type:\"boolean\"}\n",
        "num_epochs =  50 #@param {type:\"integer\"}\n",
        "\n",
        "tf.keras.backend.clear_session()\n",
        "model = tf.keras.Sequential([\n",
        "    # Explicitly define the input shape so the model can be properly\n",
        "    # loaded by the TFLiteConverter\n",
        "    tf.keras.layers.InputLayer(input_shape=[image_size, image_size, 3]),\n",
        "    hub.KerasLayer(hub_url, trainable=do_fine_tuning),\n",
        "    tf.keras.layers.Dropout(rate=0.3),\n",
        "    tf.keras.layers.Dense(10,\n",
        "                          kernel_regularizer=tf.keras.regularizers.l2(0.0001))\n",
        "])\n",
        "\n",
        "model.build((None, image_size, image_size, 3))\n",
        "model.summary()\n",
        "\n",
        "model.compile(\n",
        "  optimizer=tf.keras.optimizers.SGD(learning_rate=0.005, momentum=0.9), \n",
        "  loss=tf.keras.losses.CategoricalCrossentropy(from_logits=True, label_smoothing=0.1),\n",
        "  metrics=['accuracy'])\n",
        "model_checkpoint=tf.keras.callbacks.ModelCheckpoint('emotion10{epoch:02d}.h5',period=3,save_weights_only=True, save_best_only=True,monitor='val_loss')\n",
        "#saving the weights of the model\n",
        "#model.save_weights('emotion10.h5')\n",
        "steps_per_epoch = traingen.samples // traingen.batch_size\n",
        "validation_steps = validgen.samples // validgen.batch_size\n",
        "hist = model.fit(\n",
        "    traingen,\n",
        "    epochs=50, steps_per_epoch=steps_per_epoch,\n",
        "    validation_data=validgen,\n",
        "    callbacks = [model_checkpoint],\n",
        "    validation_steps=validation_steps).history\n",
        "model.save('emotion10')\n"
      ],
      "metadata": {
        "colab": {
          "base_uri": "https://localhost:8080/"
        },
        "id": "tf6-5FS1Wi7a",
        "outputId": "ae20ce48-e498-4018-9ac4-a328514944ec"
      },
      "execution_count": null,
      "outputs": [
        {
          "metadata": {
            "tags": null
          },
          "name": "stdout",
          "output_type": "stream",
          "text": [
            "Model: \"sequential\"\n",
            "_________________________________________________________________\n",
            " Layer (type)                Output Shape              Param #   \n",
            "=================================================================\n",
            " keras_layer (KerasLayer)    (None, 1280)              5919312   \n",
            "                                                                 \n",
            " dropout (Dropout)           (None, 1280)              0         \n",
            "                                                                 \n",
            " dense (Dense)               (None, 10)                12810     \n",
            "                                                                 \n",
            "=================================================================\n",
            "Total params: 5,932,122\n",
            "Trainable params: 5,871,514\n",
            "Non-trainable params: 60,608\n",
            "_________________________________________________________________\n",
            "WARNING:tensorflow:`period` argument is deprecated. Please use `save_freq` to specify the frequency in number of batches seen.\n"
          ]
        },
        {
          "metadata": {
            "tags": null
          },
          "name": "stderr",
          "output_type": "stream",
          "text": [
            "WARNING:tensorflow:`period` argument is deprecated. Please use `save_freq` to specify the frequency in number of batches seen.\n"
          ]
        },
        {
          "output_type": "stream",
          "name": "stdout",
          "text": [
            "Epoch 1/50\n",
            "327/327 [==============================] - 2478s 8s/step - loss: 3.0519 - accuracy: 0.1995 - val_loss: 1.9425 - val_accuracy: 0.3341\n",
            "Epoch 2/50\n",
            "327/327 [==============================] - 53s 161ms/step - loss: 1.9561 - accuracy: 0.3550 - val_loss: 1.6489 - val_accuracy: 0.4838\n",
            "Epoch 3/50\n",
            "327/327 [==============================] - 53s 161ms/step - loss: 1.7195 - accuracy: 0.4607 - val_loss: 1.4967 - val_accuracy: 0.5640\n",
            "Epoch 4/50\n",
            "327/327 [==============================] - 53s 161ms/step - loss: 1.5612 - accuracy: 0.5309 - val_loss: 1.3450 - val_accuracy: 0.6312\n",
            "Epoch 5/50\n",
            "327/327 [==============================] - 53s 161ms/step - loss: 1.4378 - accuracy: 0.5914 - val_loss: 1.2517 - val_accuracy: 0.6686\n",
            "Epoch 6/50\n",
            "327/327 [==============================] - 53s 161ms/step - loss: 1.3454 - accuracy: 0.6346 - val_loss: 1.1932 - val_accuracy: 0.6995\n",
            "Epoch 7/50\n",
            "327/327 [==============================] - 53s 161ms/step - loss: 1.2723 - accuracy: 0.6686 - val_loss: 1.1656 - val_accuracy: 0.7091\n",
            "Epoch 8/50\n",
            "327/327 [==============================] - 53s 161ms/step - loss: 1.2010 - accuracy: 0.7071 - val_loss: 1.1021 - val_accuracy: 0.7427\n",
            "Epoch 9/50\n",
            "327/327 [==============================] - 52s 160ms/step - loss: 1.1552 - accuracy: 0.7261 - val_loss: 1.0856 - val_accuracy: 0.7604\n",
            "Epoch 10/50\n",
            "327/327 [==============================] - 52s 160ms/step - loss: 1.1252 - accuracy: 0.7413 - val_loss: 1.0321 - val_accuracy: 0.7708\n",
            "Epoch 11/50\n",
            "327/327 [==============================] - 53s 162ms/step - loss: 1.0718 - accuracy: 0.7580 - val_loss: 1.0321 - val_accuracy: 0.7739\n",
            "Epoch 12/50\n",
            "327/327 [==============================] - 53s 162ms/step - loss: 1.0503 - accuracy: 0.7703 - val_loss: 1.0178 - val_accuracy: 0.7828\n",
            "Epoch 13/50\n",
            "327/327 [==============================] - 53s 161ms/step - loss: 1.0136 - accuracy: 0.7910 - val_loss: 0.9805 - val_accuracy: 0.8029\n",
            "Epoch 14/50\n",
            "327/327 [==============================] - 53s 161ms/step - loss: 1.0005 - accuracy: 0.7925 - val_loss: 0.9744 - val_accuracy: 0.8032\n",
            "Epoch 15/50\n",
            "327/327 [==============================] - 53s 162ms/step - loss: 0.9712 - accuracy: 0.8106 - val_loss: 0.9681 - val_accuracy: 0.8013\n",
            "Epoch 16/50\n",
            "327/327 [==============================] - 53s 161ms/step - loss: 0.9371 - accuracy: 0.8252 - val_loss: 0.9481 - val_accuracy: 0.8017\n",
            "Epoch 17/50\n",
            "327/327 [==============================] - 53s 162ms/step - loss: 0.9309 - accuracy: 0.8291 - val_loss: 0.9261 - val_accuracy: 0.8214\n",
            "Epoch 18/50\n",
            "327/327 [==============================] - 53s 162ms/step - loss: 0.9099 - accuracy: 0.8377 - val_loss: 0.9241 - val_accuracy: 0.8272\n",
            "Epoch 19/50\n",
            "327/327 [==============================] - 53s 161ms/step - loss: 0.8892 - accuracy: 0.8434 - val_loss: 0.9346 - val_accuracy: 0.8194\n",
            "Epoch 20/50\n",
            "327/327 [==============================] - 53s 161ms/step - loss: 0.8757 - accuracy: 0.8514 - val_loss: 0.9311 - val_accuracy: 0.8241\n",
            "Epoch 21/50\n",
            "327/327 [==============================] - 53s 162ms/step - loss: 0.8655 - accuracy: 0.8543 - val_loss: 0.9009 - val_accuracy: 0.8337\n",
            "Epoch 22/50\n",
            "327/327 [==============================] - 53s 161ms/step - loss: 0.8436 - accuracy: 0.8694 - val_loss: 0.9049 - val_accuracy: 0.8341\n",
            "Epoch 23/50\n",
            "327/327 [==============================] - 53s 161ms/step - loss: 0.8396 - accuracy: 0.8643 - val_loss: 0.8838 - val_accuracy: 0.8461\n",
            "Epoch 24/50\n",
            "327/327 [==============================] - 53s 163ms/step - loss: 0.8256 - accuracy: 0.8710 - val_loss: 0.8862 - val_accuracy: 0.8468\n",
            "Epoch 25/50\n",
            "327/327 [==============================] - 53s 160ms/step - loss: 0.8112 - accuracy: 0.8800 - val_loss: 0.8715 - val_accuracy: 0.8465\n",
            "Epoch 26/50\n",
            "327/327 [==============================] - 53s 161ms/step - loss: 0.7976 - accuracy: 0.8843 - val_loss: 0.8509 - val_accuracy: 0.8611\n",
            "Epoch 27/50\n",
            "327/327 [==============================] - 53s 162ms/step - loss: 0.7861 - accuracy: 0.8893 - val_loss: 0.8591 - val_accuracy: 0.8580\n",
            "Epoch 28/50\n",
            "327/327 [==============================] - 53s 161ms/step - loss: 0.7713 - accuracy: 0.8958 - val_loss: 0.8622 - val_accuracy: 0.8561\n",
            "Epoch 29/50\n",
            "327/327 [==============================] - 53s 161ms/step - loss: 0.7760 - accuracy: 0.8929 - val_loss: 0.8729 - val_accuracy: 0.8515\n",
            "Epoch 30/50\n",
            "327/327 [==============================] - 53s 162ms/step - loss: 0.7697 - accuracy: 0.8973 - val_loss: 0.8423 - val_accuracy: 0.8607\n",
            "Epoch 31/50\n",
            "327/327 [==============================] - 53s 162ms/step - loss: 0.7514 - accuracy: 0.9072 - val_loss: 0.8402 - val_accuracy: 0.8673\n",
            "Epoch 32/50\n",
            "327/327 [==============================] - 53s 160ms/step - loss: 0.7456 - accuracy: 0.9079 - val_loss: 0.8544 - val_accuracy: 0.8580\n",
            "Epoch 33/50\n",
            "327/327 [==============================] - 53s 163ms/step - loss: 0.7311 - accuracy: 0.9147 - val_loss: 0.8554 - val_accuracy: 0.8538\n",
            "Epoch 34/50\n",
            "327/327 [==============================] - 53s 163ms/step - loss: 0.7293 - accuracy: 0.9137 - val_loss: 0.8313 - val_accuracy: 0.8657\n",
            "Epoch 35/50\n",
            "327/327 [==============================] - 53s 163ms/step - loss: 0.7267 - accuracy: 0.9153 - val_loss: 0.8447 - val_accuracy: 0.8677\n",
            "Epoch 36/50\n",
            "327/327 [==============================] - 53s 163ms/step - loss: 0.7204 - accuracy: 0.9178 - val_loss: 0.8453 - val_accuracy: 0.8611\n",
            "Epoch 37/50\n",
            "327/327 [==============================] - 53s 163ms/step - loss: 0.7113 - accuracy: 0.9234 - val_loss: 0.8282 - val_accuracy: 0.8642\n",
            "Epoch 38/50\n",
            "327/327 [==============================] - 54s 164ms/step - loss: 0.7059 - accuracy: 0.9232 - val_loss: 0.8452 - val_accuracy: 0.8654\n",
            "Epoch 39/50\n",
            "327/327 [==============================] - 54s 164ms/step - loss: 0.7019 - accuracy: 0.9261 - val_loss: 0.8173 - val_accuracy: 0.8704\n",
            "Epoch 40/50\n",
            "327/327 [==============================] - 53s 163ms/step - loss: 0.6932 - accuracy: 0.9292 - val_loss: 0.8153 - val_accuracy: 0.8677\n",
            "Epoch 41/50\n",
            "327/327 [==============================] - 53s 162ms/step - loss: 0.6885 - accuracy: 0.9332 - val_loss: 0.8418 - val_accuracy: 0.8607\n",
            "Epoch 42/50\n",
            "327/327 [==============================] - 54s 164ms/step - loss: 0.6924 - accuracy: 0.9292 - val_loss: 0.8259 - val_accuracy: 0.8696\n",
            "Epoch 43/50\n",
            "327/327 [==============================] - 53s 162ms/step - loss: 0.6865 - accuracy: 0.9320 - val_loss: 0.8297 - val_accuracy: 0.8696\n",
            "Epoch 44/50\n",
            "327/327 [==============================] - 53s 161ms/step - loss: 0.6750 - accuracy: 0.9391 - val_loss: 0.8189 - val_accuracy: 0.8765\n",
            "Epoch 45/50\n",
            "327/327 [==============================] - 53s 162ms/step - loss: 0.6679 - accuracy: 0.9412 - val_loss: 0.8407 - val_accuracy: 0.8611\n",
            "Epoch 46/50\n",
            "327/327 [==============================] - 53s 160ms/step - loss: 0.6694 - accuracy: 0.9394 - val_loss: 0.8039 - val_accuracy: 0.8746\n",
            "Epoch 47/50\n",
            "327/327 [==============================] - 53s 162ms/step - loss: 0.6642 - accuracy: 0.9429 - val_loss: 0.7975 - val_accuracy: 0.8854\n",
            "Epoch 48/50\n",
            "327/327 [==============================] - 53s 163ms/step - loss: 0.6598 - accuracy: 0.9442 - val_loss: 0.7977 - val_accuracy: 0.8812\n",
            "Epoch 49/50\n",
            "327/327 [==============================] - 52s 160ms/step - loss: 0.6559 - accuracy: 0.9438 - val_loss: 0.8089 - val_accuracy: 0.8808\n",
            "Epoch 50/50\n",
            "327/327 [==============================] - 53s 161ms/step - loss: 0.6531 - accuracy: 0.9468 - val_loss: 0.7982 - val_accuracy: 0.8823\n"
          ]
        },
        {
          "output_type": "stream",
          "name": "stderr",
          "text": [
            "WARNING:absl:Found untraced functions such as restored_function_body, restored_function_body, restored_function_body, restored_function_body, restored_function_body while saving (showing 5 of 835). These functions will not be directly callable after loading.\n"
          ]
        },
        {
          "output_type": "stream",
          "name": "stdout",
          "text": [
            "INFO:tensorflow:Assets written to: emotion10/assets\n"
          ]
        },
        {
          "output_type": "stream",
          "name": "stderr",
          "text": [
            "INFO:tensorflow:Assets written to: emotion10/assets\n"
          ]
        }
      ]
    },
    {
      "cell_type": "code",
      "source": [
        "from tensorflow import keras\n",
        "model = keras.models.load_model('/content/emotion10')\n",
        "model.load_weights('/content/emotion10.h5')"
      ],
      "metadata": {
        "id": "dXCLQcOsvJEH"
      },
      "execution_count": null,
      "outputs": []
    },
    {
      "cell_type": "code",
      "source": [
        "!pip install -U tensorflow-addons"
      ],
      "metadata": {
        "colab": {
          "base_uri": "https://localhost:8080/"
        },
        "id": "Zkb3HPlb43Tt",
        "outputId": "895d1aab-f113-422e-a79d-42f6d007f246"
      },
      "execution_count": null,
      "outputs": [
        {
          "output_type": "stream",
          "name": "stdout",
          "text": [
            "Collecting tensorflow-addons\n",
            "  Downloading tensorflow_addons-0.15.0-cp37-cp37m-manylinux_2_12_x86_64.manylinux2010_x86_64.whl (1.1 MB)\n",
            "\u001b[K     |████████████████████████████████| 1.1 MB 5.0 MB/s \n",
            "\u001b[?25hRequirement already satisfied: typeguard>=2.7 in /usr/local/lib/python3.7/dist-packages (from tensorflow-addons) (2.7.1)\n",
            "Installing collected packages: tensorflow-addons\n",
            "Successfully installed tensorflow-addons-0.15.0\n"
          ]
        }
      ]
    },
    {
      "cell_type": "code",
      "metadata": {
        "id": "VdPZbwotqXAP",
        "colab": {
          "base_uri": "https://localhost:8080/",
          "height": 294
        },
        "outputId": "fb748e8b-2f40-4434-d2da-cd5028b2caa7"
      },
      "source": [
        "import matplotlib.pyplot as plt\n",
        "plt.plot(hist['accuracy'])\n",
        "plt.plot(hist['val_accuracy'])\n",
        "plt.title('EfficientNetV2 Model Train vs Validation Accuracy Curve')\n",
        "plt.ylabel('accuracy')\n",
        "plt.xlabel('epoch')\n",
        "plt.legend(['train', 'val'], loc='upper left')\n",
        "plt.show()"
      ],
      "execution_count": null,
      "outputs": [
        {
          "output_type": "display_data",
          "data": {
            "image/png": "[encoded data removed]",
            "text/plain": [
              "<Figure size 432x288 with 1 Axes>"
            ]
          },
          "metadata": {
            "needs_background": "light"
          }
        }
      ]
    },
    {
      "cell_type": "code",
      "metadata": {
        "id": "OXDp7tk5E_RI",
        "colab": {
          "base_uri": "https://localhost:8080/",
          "height": 294
        },
        "outputId": "bfd07eb4-a6bf-47ad-e079-371714a8f6d5"
      },
      "source": [
        "plt.plot(hist['loss'])\n",
        "plt.plot(hist['val_loss'])\n",
        "plt.title('EfficientNetV2 Model Train vs Validation Loss Curve')\n",
        "plt.ylabel('accuracy')\n",
        "plt.xlabel('epoch')\n",
        "plt.legend(['train', 'val'], loc='upper left')\n",
        "plt.show()"
      ],
      "execution_count": null,
      "outputs": [
        {
          "output_type": "display_data",
          "data": {
            "image/png": "[encoded data removed]",
            "text/plain": [
              "<Figure size 432x288 with 1 Axes>"
            ]
          },
          "metadata": {
            "needs_background": "light"
          }
        }
      ]
    },
    {
      "cell_type": "code",
      "metadata": {
        "id": "AkG-YdBnv0jF",
        "colab": {
          "base_uri": "https://localhost:8080/"
        },
        "outputId": "14398a89-2d9e-4ae2-9357-9e8f940a5d34"
      },
      "source": [
        "from sklearn.metrics import plot_confusion_matrix\n",
        "from sklearn.metrics import ConfusionMatrixDisplay, confusion_matrix\n",
        "import time\n",
        "np.set_printoptions(precision=2)\n",
        "class_names = ['angry', 'disgust', 'fear','happy', 'mockery', 'neutral','sad', 'surprise', 'think', 'wink']\n",
        "\n",
        "from sklearn.metrics import plot_confusion_matrix\n",
        "import matplotlib.pyplot as plt  \n",
        "from sklearn.metrics import ConfusionMatrixDisplay\n",
        "start = time.clock()\n",
        "Y_pred = model.predict(validgen)\n",
        "end = time.clock()\n",
        "print(\"Time per image: {}\".format((end-start)/len(validgen)))\n",
        "y_pred = np.argmax(Y_pred, axis=1)\n",
        "print(end-start)\n",
        "cm = confusion_matrix(validgen.classes, y_pred)\n",
        "#plot_confusion_matrix(X = y_pred, y_true=validgen.classes, labels = class_names, normalize=False)"
      ],
      "execution_count": null,
      "outputs": [
        {
          "output_type": "stream",
          "name": "stderr",
          "text": [
            "/usr/local/lib/python3.7/dist-packages/ipykernel_launcher.py:10: DeprecationWarning: time.clock has been deprecated in Python 3.3 and will be removed from Python 3.8: use time.perf_counter or time.process_time instead\n",
            "  # Remove the CWD from sys.path while we load stuff.\n"
          ]
        },
        {
          "output_type": "stream",
          "name": "stdout",
          "text": [
            "Time per image: 0.11587239024389952\n",
            "9.50153599999976\n"
          ]
        },
        {
          "output_type": "stream",
          "name": "stderr",
          "text": [
            "/usr/local/lib/python3.7/dist-packages/ipykernel_launcher.py:12: DeprecationWarning: time.clock has been deprecated in Python 3.3 and will be removed from Python 3.8: use time.perf_counter or time.process_time instead\n",
            "  if sys.path[0] == '':\n"
          ]
        }
      ]
    },
    {
      "cell_type": "code",
      "metadata": {
        "id": "LLhWbhVXV58-",
        "colab": {
          "base_uri": "https://localhost:8080/",
          "height": 761
        },
        "outputId": "0a3c92de-5eac-468d-8b88-6c374cf82719"
      },
      "source": [
        "import matplotlib.pyplot as plt\n",
        "import itertools \n",
        "def plot_confusion_matrix(cm, classes, normalize=True, title='Confusion matrix of EfficientNetV2', cmap=plt.cm.Blues):\n",
        "\n",
        "    \"\"\"\n",
        "\n",
        "    This function prints and plots the confusion matrix.\n",
        "\n",
        "    Normalization can be applied by setting `normalize=True`.\n",
        "\n",
        "    \"\"\"\n",
        "\n",
        "    plt.figure(figsize=(20,10))\n",
        "\n",
        "\n",
        "\n",
        "    plt.imshow(cm, interpolation='nearest', cmap=cmap)\n",
        "\n",
        "    plt.title(title)\n",
        "\n",
        "    plt.colorbar()\n",
        "\n",
        "\n",
        "\n",
        "    tick_marks = np.arange(len(classes))\n",
        "\n",
        "    plt.xticks(tick_marks, classes, rotation=45)\n",
        "\n",
        "    plt.yticks(tick_marks, classes)\n",
        "\n",
        "\n",
        "\n",
        "    if normalize:\n",
        "\n",
        "        cm = cm.astype('float') / cm.sum(axis=1)[:, np.newaxis]\n",
        "\n",
        "        cm = np.around(cm, decimals=2)\n",
        "\n",
        "        cm[np.isnan(cm)] = 0.0\n",
        "\n",
        "        print(\"Normalized confusion matrix\")\n",
        "\n",
        "    else:\n",
        "\n",
        "        print('Confusion matrix, without normalization')\n",
        "\n",
        "    thresh = cm.max() / 2.\n",
        "\n",
        "    for i, j in itertools.product(range(cm.shape[0]), range(cm.shape[1])):\n",
        "\n",
        "        plt.text(j, i, cm[i, j],\n",
        "\n",
        "                 horizontalalignment=\"center\",\n",
        "\n",
        "                 color=\"white\" if cm[i, j] > thresh else \"black\")\n",
        "\n",
        "    plt.tight_layout()\n",
        "\n",
        "    plt.ylabel('True label')\n",
        "\n",
        "    plt.xlabel('Predicted label')\n",
        "\n",
        "plot_confusion_matrix(cm, class_names)"
      ],
      "execution_count": null,
      "outputs": [
        {
          "output_type": "stream",
          "name": "stdout",
          "text": [
            "Normalized confusion matrix\n"
          ]
        },
        {
          "output_type": "display_data",
          "data": {
            "image/png": "[encoded data removed]",
            "text/plain": [
              "<Figure size 1440x720 with 2 Axes>"
            ]
          },
          "metadata": {
            "needs_background": "light"
          }
        }
      ]
    }
  ]
}