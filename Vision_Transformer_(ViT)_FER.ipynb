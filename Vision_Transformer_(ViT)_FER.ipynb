{
  "nbformat": 4,
  "nbformat_minor": 0,
  "metadata": {
    "colab": {
      "name": "Vision Transformer (ViT)-FER.ipynb",
      "provenance": []
    },
    "kernelspec": {
      "name": "python3",
      "display_name": "Python 3"
    },
    "language_info": {
      "name": "python"
    },
    "accelerator": "GPU"
  },
  "cells": [
    {
      "cell_type": "code",
      "metadata": {
        "id": "ch3cI1rruDXY",
        "colab": {
          "base_uri": "https://localhost:8080/"
        },
        "outputId": "4c834e33-2bcb-4839-e71c-db398daf4372"
      },
      "source": [
        "from google.colab import drive\n",
        "drive.mount('/content/gdrive')"
      ],
      "execution_count": null,
      "outputs": [
        {
          "output_type": "stream",
          "name": "stdout",
          "text": [
            "Drive already mounted at /content/gdrive; to attempt to forcibly remount, call drive.mount(\"/content/gdrive\", force_remount=True).\n"
          ]
        }
      ]
    },
    {
      "cell_type": "code",
      "metadata": {
        "colab": {
          "base_uri": "https://localhost:8080/"
        },
        "id": "WqxVCgOQqW_O",
        "outputId": "d8656984-b97b-4278-e197-a0f0baf34432"
      },
      "source": [
        "!pip install -U tensorflow-addons"
      ],
      "execution_count": null,
      "outputs": [
        {
          "output_type": "stream",
          "name": "stdout",
          "text": [
            "Requirement already satisfied: tensorflow-addons in /usr/local/lib/python3.7/dist-packages (0.15.0)\n",
            "Requirement already satisfied: typeguard>=2.7 in /usr/local/lib/python3.7/dist-packages (from tensorflow-addons) (2.7.1)\n"
          ]
        }
      ]
    },
    {
      "cell_type": "code",
      "metadata": {
        "colab": {
          "base_uri": "https://localhost:8080/"
        },
        "id": "41Gy7A2bnl8S",
        "outputId": "cbacfd2d-08ec-4533-85da-75e246378363"
      },
      "source": [
        "!pwd"
      ],
      "execution_count": null,
      "outputs": [
        {
          "output_type": "stream",
          "name": "stdout",
          "text": [
            "/content\n"
          ]
        }
      ]
    },
    {
      "cell_type": "code",
      "metadata": {
        "id": "VdPZbwotqXAP"
      },
      "source": [
        "import numpy as np\n",
        "import tensorflow as tf\n",
        "from tensorflow import keras\n",
        "from tensorflow.keras import layers\n",
        "import tensorflow_addons as tfa"
      ],
      "execution_count": null,
      "outputs": []
    },
    {
      "cell_type": "code",
      "metadata": {
        "id": "OXDp7tk5E_RI"
      },
      "source": [
        "from sklearn.model_selection import train_test_split\n",
        "num_classes = 10\n",
        "np.random.seed(0)\n",
        "import pandas as pd\n",
        "from sklearn.utils import shuffle\n",
        "x_train = pd.read_csv('/content/gdrive/MyDrive/COSI/Video processing and Advanced project/ferattention-master/emoji_10_Emotion_COSI.csv')\n",
        "y_train = x_train['emotion']\n",
        "x_train.drop(['emotion'], inplace = True, axis = 1 )\n",
        "X_train, X_test, y_train, y_test = train_test_split(x_train, y_train, test_size=0.25)\n",
        "\n"
      ],
      "execution_count": null,
      "outputs": []
    },
    {
      "cell_type": "code",
      "metadata": {
        "id": "AkG-YdBnv0jF"
      },
      "source": [
        "x_train = X_train.values\n",
        "y_train = y_train.values\n",
        "x_test = X_test.values\n",
        "y_test = y_test.values"
      ],
      "execution_count": null,
      "outputs": []
    },
    {
      "cell_type": "code",
      "metadata": {
        "id": "LLhWbhVXV58-"
      },
      "source": [
        "x_train = x_train.reshape(-1,48,48,1)\n",
        "x_test = x_test.reshape(-1,48,48,1)"
      ],
      "execution_count": null,
      "outputs": []
    },
    {
      "cell_type": "code",
      "metadata": {
        "colab": {
          "base_uri": "https://localhost:8080/"
        },
        "id": "Gf5zFsyFWk6b",
        "outputId": "45a3dccb-d351-4d5e-d95a-7cc04c1c75f0"
      },
      "source": [
        "print(f\"x_train shape: {x_train.shape} - y_train shape: {y_train.shape}\")\n",
        "print(f\"x_test shape: {x_test.shape} - y_test shape: {y_test.shape}\")"
      ],
      "execution_count": null,
      "outputs": [
        {
          "output_type": "stream",
          "name": "stdout",
          "text": [
            "x_train shape: (9825, 48, 48, 1) - y_train shape: (9825,)\n",
            "x_test shape: (3275, 48, 48, 1) - y_test shape: (3275,)\n"
          ]
        }
      ]
    },
    {
      "cell_type": "code",
      "metadata": {
        "id": "k_wA_JrJv-18"
      },
      "source": [
        "learning_rate = 0.001\n",
        "weight_decay = 0.0001\n",
        "batch_size = 32\n",
        "num_epochs = 60\n",
        "image_size = 48  # We'll resize input images to this size\n",
        "patch_size = 4  # Size of the patches to be extract from the input images\n",
        "num_patches = (image_size // patch_size) ** 2\n",
        "projection_dim = 64\n",
        "num_heads = 4\n",
        "transformer_units = [\n",
        "    projection_dim * 2,\n",
        "    projection_dim,\n",
        "]  # Size of the transformer layers\n",
        "transformer_layers = 8\n",
        "mlp_head_units = [2048, 1024]  # Size of the dense layers of the final classifier"
      ],
      "execution_count": null,
      "outputs": []
    },
    {
      "cell_type": "code",
      "metadata": {
        "id": "sr847www16M2"
      },
      "source": [
        "data_augmentation = keras.Sequential(\n",
        "    [\n",
        "        layers.Normalization(),\n",
        "        layers.Resizing(image_size, image_size),\n",
        "        layers.RandomFlip(\"horizontal\"),\n",
        "        layers.RandomRotation(factor=0.02),\n",
        "        layers.RandomZoom(\n",
        "            height_factor=0.1, width_factor=0.1\n",
        "        ),\n",
        "    ],\n",
        "    name=\"data_augmentation\",\n",
        ")\n",
        "# Compute the mean and the variance of the training data for normalization.\n",
        "data_augmentation.layers[0].adapt(x_train)"
      ],
      "execution_count": null,
      "outputs": []
    },
    {
      "cell_type": "code",
      "metadata": {
        "id": "ICo_sF0G16S0"
      },
      "source": [
        "def mlp(x, hidden_units, dropout_rate):\n",
        "    for units in hidden_units:\n",
        "        x = layers.Dense(units, activation=tf.nn.gelu)(x)\n",
        "        x = layers.Dropout(dropout_rate)(x)\n",
        "    return x"
      ],
      "execution_count": null,
      "outputs": []
    },
    {
      "cell_type": "code",
      "metadata": {
        "id": "JDe8sS5k16Xe"
      },
      "source": [
        "class Patches(layers.Layer):\n",
        "    def __init__(self, patch_size):\n",
        "        super(Patches, self).__init__()\n",
        "        self.patch_size = patch_size\n",
        "\n",
        "    def call(self, images):\n",
        "        batch_size = tf.shape(images)[0]\n",
        "        patches = tf.image.extract_patches(\n",
        "            images=images,\n",
        "            sizes=[1, self.patch_size, self.patch_size, 1],\n",
        "            strides=[1, self.patch_size, self.patch_size, 1],\n",
        "            rates=[1, 1, 1, 1],\n",
        "            padding=\"VALID\",\n",
        "        )\n",
        "        patch_dims = patches.shape[-1]\n",
        "        patches = tf.reshape(patches, [batch_size, -1, patch_dims])\n",
        "        return patches"
      ],
      "execution_count": null,
      "outputs": []
    },
    {
      "cell_type": "code",
      "metadata": {
        "id": "JwouCPaT4y7J"
      },
      "source": [
        "class PatchEncoder(layers.Layer):\n",
        "    def __init__(self, num_patches, projection_dim):\n",
        "        super(PatchEncoder, self).__init__()\n",
        "        self.num_patches = num_patches\n",
        "        self.projection = layers.Dense(units=projection_dim)\n",
        "        self.position_embedding = layers.Embedding(\n",
        "            input_dim=num_patches, output_dim=projection_dim\n",
        "        )\n",
        "\n",
        "    def call(self, patch):\n",
        "        positions = tf.range(start=0, limit=self.num_patches, delta=1)\n",
        "        encoded = self.projection(patch) + self.position_embedding(positions)\n",
        "        return encoded"
      ],
      "execution_count": null,
      "outputs": []
    },
    {
      "cell_type": "code",
      "metadata": {
        "id": "o8Jtaimm2RaJ"
      },
      "source": [
        "def create_vit_classifier():\n",
        "    inputs = layers.Input(shape=(48,48,1))\n",
        "    # Augment data.\n",
        "    augmented = data_augmentation(inputs)\n",
        "    # Create patches.\n",
        "    patches = Patches(patch_size)(augmented)\n",
        "    # Encode patches.\n",
        "    encoded_patches = PatchEncoder(num_patches, projection_dim)(patches)\n",
        "\n",
        "    # Create multiple layers of the Transformer block.\n",
        "    for _ in range(transformer_layers):\n",
        "        # Layer normalization 1.\n",
        "        x1 = layers.LayerNormalization(epsilon=1e-6)(encoded_patches)\n",
        "        # Create a multi-head attention layer.\n",
        "        attention_output = layers.MultiHeadAttention(\n",
        "            num_heads=num_heads, key_dim=projection_dim, dropout=0.1\n",
        "        )(x1, x1)\n",
        "        # Skip connection 1.\n",
        "        x2 = layers.Add()([attention_output, encoded_patches])\n",
        "        # Layer normalization 2.\n",
        "        x3 = layers.LayerNormalization(epsilon=1e-6)(x2)\n",
        "        # MLP.\n",
        "        x3 = mlp(x3, hidden_units=transformer_units, dropout_rate=0.1)\n",
        "        # Skip connection 2.\n",
        "        encoded_patches = layers.Add()([x3, x2])\n",
        "\n",
        "    # Create a [batch_size, projection_dim] tensor.\n",
        "    representation = layers.LayerNormalization(epsilon=1e-6)(encoded_patches)\n",
        "    representation = layers.Flatten()(representation)\n",
        "    representation = layers.Dropout(0.5)(representation)\n",
        "    # Add MLP.\n",
        "    features = mlp(representation, hidden_units=mlp_head_units, dropout_rate=0.5)\n",
        "    # Classify outputs.\n",
        "    logits = layers.Dense(num_classes)(features)\n",
        "    # Create the Keras model.\n",
        "    model = keras.Model(inputs=inputs, outputs=logits)\n",
        "    return model"
      ],
      "execution_count": null,
      "outputs": []
    },
    {
      "cell_type": "code",
      "metadata": {
        "colab": {
          "base_uri": "https://localhost:8080/"
        },
        "id": "CZ0iWXZIosol",
        "outputId": "6bd235fc-d1e9-4aab-b1af-77e622ffa7bf"
      },
      "source": [
        "cd '/content/gdrive/MyDrive/COSI/Video processing and Advanced project/ferattention-master/model H5 and Json'"
      ],
      "execution_count": null,
      "outputs": [
        {
          "output_type": "stream",
          "name": "stdout",
          "text": [
            "[Errno 2] No such file or directory: '/content/gdrive/MyDrive/COSI/Video processing and Advanced project/ferattention-master/model H5 and Json'\n",
            "/content\n"
          ]
        }
      ]
    },
    {
      "cell_type": "code",
      "metadata": {
        "colab": {
          "base_uri": "https://localhost:8080/"
        },
        "id": "VuJnTRJC2RdD",
        "outputId": "5f522fe0-2dd4-44d0-d49c-fe39dfba1ea1"
      },
      "source": [
        "def run_experiment(model):\n",
        "    optimizer = tfa.optimizers.AdamW(\n",
        "        learning_rate=learning_rate, weight_decay=weight_decay\n",
        "    )\n",
        "\n",
        "    model.compile(\n",
        "        optimizer=optimizer,\n",
        "        loss=keras.losses.SparseCategoricalCrossentropy(from_logits=True),\n",
        "        metrics=[\n",
        "            keras.metrics.SparseCategoricalAccuracy(name=\"accuracy\"),\n",
        "            keras.metrics.SparseTopKCategoricalAccuracy(5, name=\"top-5-accuracy\"),\n",
        "        ],\n",
        "    )\n",
        "\n",
        "    checkpoint_filepath = \"/content/gdrive/MyDrive/COSI/Video processing and Advanced project/ferattention-master/Emotion_Classes.zip (Unzipped Files)\"\n",
        "    checkpoint_callback = keras.callbacks.ModelCheckpoint(\n",
        "        checkpoint_filepath,\n",
        "        monitor=\"val_accuracy\",\n",
        "        save_best_only=True,\n",
        "        save_weights_only=True,\n",
        "    )\n",
        "\n",
        "    history = model.fit(\n",
        "        x=x_train,\n",
        "        y=y_train,\n",
        "        batch_size=batch_size,\n",
        "        epochs=num_epochs,\n",
        "        validation_split=0.2,\n",
        "        callbacks=[checkpoint_callback],\n",
        "    )\n",
        "\n",
        "    model.load_weights(checkpoint_filepath)\n",
        "    _, accuracy, top_5_accuracy = model.evaluate(x_test, y_test)\n",
        "    print(f\"Test accuracy: {round(accuracy * 100, 2)}%\")\n",
        "    print(f\"Test top 5 accuracy: {round(top_5_accuracy * 100, 2)}%\")\n",
        "\n",
        "    return history\n",
        "\n",
        "\n",
        "vit_classifier = create_vit_classifier()\n",
        "history = run_experiment(vit_classifier)"
      ],
      "execution_count": null,
      "outputs": [
        {
          "output_type": "stream",
          "name": "stdout",
          "text": [
            "Epoch 1/60\n",
            "246/246 [==============================] - 58s 180ms/step - loss: 2.8397 - accuracy: 0.1412 - top-5-accuracy: 0.5832 - val_loss: 2.1546 - val_accuracy: 0.2499 - val_top-5-accuracy: 0.7064\n",
            "Epoch 2/60\n",
            "246/246 [==============================] - 43s 175ms/step - loss: 2.1757 - accuracy: 0.2209 - top-5-accuracy: 0.6941 - val_loss: 1.9676 - val_accuracy: 0.3145 - val_top-5-accuracy: 0.8010\n",
            "Epoch 3/60\n",
            "246/246 [==============================] - 46s 186ms/step - loss: 2.0484 - accuracy: 0.2734 - top-5-accuracy: 0.7424 - val_loss: 1.7859 - val_accuracy: 0.4051 - val_top-5-accuracy: 0.8407\n",
            "Epoch 4/60\n",
            "246/246 [==============================] - 45s 182ms/step - loss: 1.9389 - accuracy: 0.3230 - top-5-accuracy: 0.7836 - val_loss: 1.6690 - val_accuracy: 0.4280 - val_top-5-accuracy: 0.8768\n",
            "Epoch 5/60\n",
            "246/246 [==============================] - 46s 187ms/step - loss: 1.8451 - accuracy: 0.3394 - top-5-accuracy: 0.8150 - val_loss: 1.6271 - val_accuracy: 0.4417 - val_top-5-accuracy: 0.8931\n",
            "Epoch 6/60\n",
            "246/246 [==============================] - 43s 176ms/step - loss: 1.7432 - accuracy: 0.3869 - top-5-accuracy: 0.8461 - val_loss: 1.5190 - val_accuracy: 0.4850 - val_top-5-accuracy: 0.9120\n",
            "Epoch 7/60\n",
            "246/246 [==============================] - 47s 192ms/step - loss: 1.6723 - accuracy: 0.4155 - top-5-accuracy: 0.8672 - val_loss: 1.4033 - val_accuracy: 0.5186 - val_top-5-accuracy: 0.9043\n",
            "Epoch 8/60\n",
            "246/246 [==============================] - 40s 164ms/step - loss: 1.6097 - accuracy: 0.4314 - top-5-accuracy: 0.8864 - val_loss: 1.3868 - val_accuracy: 0.5170 - val_top-5-accuracy: 0.9313\n",
            "Epoch 9/60\n",
            "246/246 [==============================] - 43s 177ms/step - loss: 1.5419 - accuracy: 0.4571 - top-5-accuracy: 0.8929 - val_loss: 1.3097 - val_accuracy: 0.5628 - val_top-5-accuracy: 0.9308\n",
            "Epoch 10/60\n",
            "246/246 [==============================] - 41s 167ms/step - loss: 1.4936 - accuracy: 0.4729 - top-5-accuracy: 0.9037 - val_loss: 1.3278 - val_accuracy: 0.5445 - val_top-5-accuracy: 0.9344\n",
            "Epoch 11/60\n",
            "246/246 [==============================] - 43s 177ms/step - loss: 1.4126 - accuracy: 0.5064 - top-5-accuracy: 0.9190 - val_loss: 1.1944 - val_accuracy: 0.5852 - val_top-5-accuracy: 0.9399\n",
            "Epoch 12/60\n",
            "246/246 [==============================] - 44s 180ms/step - loss: 1.3659 - accuracy: 0.5268 - top-5-accuracy: 0.9251 - val_loss: 1.1303 - val_accuracy: 0.6183 - val_top-5-accuracy: 0.9491\n",
            "Epoch 13/60\n",
            "246/246 [==============================] - 41s 165ms/step - loss: 1.3125 - accuracy: 0.5445 - top-5-accuracy: 0.9322 - val_loss: 1.2067 - val_accuracy: 0.5756 - val_top-5-accuracy: 0.9461\n",
            "Epoch 14/60\n",
            "246/246 [==============================] - 40s 163ms/step - loss: 1.2969 - accuracy: 0.5457 - top-5-accuracy: 0.9317 - val_loss: 1.2342 - val_accuracy: 0.5852 - val_top-5-accuracy: 0.9389\n",
            "Epoch 15/60\n",
            "246/246 [==============================] - 43s 176ms/step - loss: 1.2721 - accuracy: 0.5509 - top-5-accuracy: 0.9392 - val_loss: 1.0145 - val_accuracy: 0.6545 - val_top-5-accuracy: 0.9578\n",
            "Epoch 16/60\n",
            "246/246 [==============================] - 48s 194ms/step - loss: 1.2007 - accuracy: 0.5805 - top-5-accuracy: 0.9482 - val_loss: 0.9888 - val_accuracy: 0.6595 - val_top-5-accuracy: 0.9628\n",
            "Epoch 17/60\n",
            "246/246 [==============================] - 44s 179ms/step - loss: 1.1170 - accuracy: 0.6132 - top-5-accuracy: 0.9531 - val_loss: 0.9139 - val_accuracy: 0.6926 - val_top-5-accuracy: 0.9730\n",
            "Epoch 18/60\n",
            "246/246 [==============================] - 41s 165ms/step - loss: 1.0678 - accuracy: 0.6254 - top-5-accuracy: 0.9608 - val_loss: 0.9264 - val_accuracy: 0.6753 - val_top-5-accuracy: 0.9664\n",
            "Epoch 19/60\n",
            "246/246 [==============================] - 46s 189ms/step - loss: 1.0132 - accuracy: 0.6550 - top-5-accuracy: 0.9650 - val_loss: 0.8567 - val_accuracy: 0.7079 - val_top-5-accuracy: 0.9776\n",
            "Epoch 20/60\n",
            "246/246 [==============================] - 41s 165ms/step - loss: 0.9789 - accuracy: 0.6608 - top-5-accuracy: 0.9669 - val_loss: 0.8653 - val_accuracy: 0.7053 - val_top-5-accuracy: 0.9725\n",
            "Epoch 21/60\n",
            "246/246 [==============================] - 40s 163ms/step - loss: 0.9409 - accuracy: 0.6742 - top-5-accuracy: 0.9681 - val_loss: 0.8352 - val_accuracy: 0.7079 - val_top-5-accuracy: 0.9766\n",
            "Epoch 22/60\n",
            "246/246 [==============================] - 43s 176ms/step - loss: 0.8921 - accuracy: 0.6980 - top-5-accuracy: 0.9737 - val_loss: 0.8353 - val_accuracy: 0.7120 - val_top-5-accuracy: 0.9746\n",
            "Epoch 23/60\n",
            "246/246 [==============================] - 43s 175ms/step - loss: 0.8691 - accuracy: 0.7028 - top-5-accuracy: 0.9775 - val_loss: 0.7689 - val_accuracy: 0.7359 - val_top-5-accuracy: 0.9781\n",
            "Epoch 24/60\n",
            "246/246 [==============================] - 43s 177ms/step - loss: 0.8305 - accuracy: 0.7198 - top-5-accuracy: 0.9772 - val_loss: 0.7882 - val_accuracy: 0.7364 - val_top-5-accuracy: 0.9730\n",
            "Epoch 25/60\n",
            "246/246 [==============================] - 44s 178ms/step - loss: 0.7915 - accuracy: 0.7272 - top-5-accuracy: 0.9816 - val_loss: 0.7499 - val_accuracy: 0.7501 - val_top-5-accuracy: 0.9781\n",
            "Epoch 26/60\n",
            "246/246 [==============================] - 40s 163ms/step - loss: 0.7743 - accuracy: 0.7382 - top-5-accuracy: 0.9808 - val_loss: 0.7375 - val_accuracy: 0.7410 - val_top-5-accuracy: 0.9781\n",
            "Epoch 27/60\n",
            "246/246 [==============================] - 46s 187ms/step - loss: 0.7392 - accuracy: 0.7532 - top-5-accuracy: 0.9833 - val_loss: 0.6966 - val_accuracy: 0.7618 - val_top-5-accuracy: 0.9822\n",
            "Epoch 28/60\n",
            "246/246 [==============================] - 43s 177ms/step - loss: 0.7000 - accuracy: 0.7615 - top-5-accuracy: 0.9869 - val_loss: 0.6846 - val_accuracy: 0.7776 - val_top-5-accuracy: 0.9822\n",
            "Epoch 29/60\n",
            "246/246 [==============================] - 40s 162ms/step - loss: 0.6665 - accuracy: 0.7729 - top-5-accuracy: 0.9879 - val_loss: 0.7028 - val_accuracy: 0.7756 - val_top-5-accuracy: 0.9807\n",
            "Epoch 30/60\n",
            "246/246 [==============================] - 39s 160ms/step - loss: 0.6616 - accuracy: 0.7744 - top-5-accuracy: 0.9875 - val_loss: 0.6691 - val_accuracy: 0.7720 - val_top-5-accuracy: 0.9827\n",
            "Epoch 31/60\n",
            "246/246 [==============================] - 45s 184ms/step - loss: 0.6411 - accuracy: 0.7847 - top-5-accuracy: 0.9879 - val_loss: 0.6782 - val_accuracy: 0.7791 - val_top-5-accuracy: 0.9796\n",
            "Epoch 32/60\n",
            "246/246 [==============================] - 43s 177ms/step - loss: 0.6296 - accuracy: 0.7827 - top-5-accuracy: 0.9912 - val_loss: 0.6683 - val_accuracy: 0.7817 - val_top-5-accuracy: 0.9802\n",
            "Epoch 33/60\n",
            "246/246 [==============================] - 43s 176ms/step - loss: 0.6041 - accuracy: 0.7906 - top-5-accuracy: 0.9908 - val_loss: 0.6487 - val_accuracy: 0.7847 - val_top-5-accuracy: 0.9822\n",
            "Epoch 34/60\n",
            "246/246 [==============================] - 40s 161ms/step - loss: 0.5896 - accuracy: 0.8039 - top-5-accuracy: 0.9910 - val_loss: 0.6760 - val_accuracy: 0.7766 - val_top-5-accuracy: 0.9832\n",
            "Epoch 35/60\n",
            "246/246 [==============================] - 46s 188ms/step - loss: 0.5651 - accuracy: 0.8047 - top-5-accuracy: 0.9916 - val_loss: 0.6100 - val_accuracy: 0.8020 - val_top-5-accuracy: 0.9796\n",
            "Epoch 36/60\n",
            "246/246 [==============================] - 45s 181ms/step - loss: 0.5387 - accuracy: 0.8128 - top-5-accuracy: 0.9935 - val_loss: 0.5926 - val_accuracy: 0.8056 - val_top-5-accuracy: 0.9852\n",
            "Epoch 37/60\n",
            "246/246 [==============================] - 40s 163ms/step - loss: 0.5373 - accuracy: 0.8158 - top-5-accuracy: 0.9919 - val_loss: 0.6145 - val_accuracy: 0.7919 - val_top-5-accuracy: 0.9842\n",
            "Epoch 38/60\n",
            "246/246 [==============================] - 46s 189ms/step - loss: 0.5116 - accuracy: 0.8252 - top-5-accuracy: 0.9953 - val_loss: 0.5849 - val_accuracy: 0.8081 - val_top-5-accuracy: 0.9832\n",
            "Epoch 39/60\n",
            "246/246 [==============================] - 42s 169ms/step - loss: 0.5074 - accuracy: 0.8308 - top-5-accuracy: 0.9917 - val_loss: 0.6118 - val_accuracy: 0.8020 - val_top-5-accuracy: 0.9837\n",
            "Epoch 40/60\n",
            "246/246 [==============================] - 43s 174ms/step - loss: 0.4900 - accuracy: 0.8366 - top-5-accuracy: 0.9927 - val_loss: 0.5928 - val_accuracy: 0.8097 - val_top-5-accuracy: 0.9837\n",
            "Epoch 41/60\n",
            "246/246 [==============================] - 40s 163ms/step - loss: 0.4951 - accuracy: 0.8272 - top-5-accuracy: 0.9943 - val_loss: 0.6371 - val_accuracy: 0.7959 - val_top-5-accuracy: 0.9852\n",
            "Epoch 42/60\n",
            "246/246 [==============================] - 46s 186ms/step - loss: 0.4834 - accuracy: 0.8378 - top-5-accuracy: 0.9936 - val_loss: 0.5894 - val_accuracy: 0.8112 - val_top-5-accuracy: 0.9827\n",
            "Epoch 43/60\n",
            "246/246 [==============================] - 42s 169ms/step - loss: 0.4676 - accuracy: 0.8383 - top-5-accuracy: 0.9952 - val_loss: 0.5827 - val_accuracy: 0.8051 - val_top-5-accuracy: 0.9868\n",
            "Epoch 44/60\n",
            "246/246 [==============================] - 40s 161ms/step - loss: 0.4634 - accuracy: 0.8458 - top-5-accuracy: 0.9949 - val_loss: 0.5935 - val_accuracy: 0.8046 - val_top-5-accuracy: 0.9873\n",
            "Epoch 45/60\n",
            "246/246 [==============================] - 43s 175ms/step - loss: 0.4424 - accuracy: 0.8500 - top-5-accuracy: 0.9936 - val_loss: 0.5526 - val_accuracy: 0.8183 - val_top-5-accuracy: 0.9852\n",
            "Epoch 46/60\n",
            "246/246 [==============================] - 40s 163ms/step - loss: 0.4568 - accuracy: 0.8458 - top-5-accuracy: 0.9945 - val_loss: 0.5648 - val_accuracy: 0.8137 - val_top-5-accuracy: 0.9898\n",
            "Epoch 47/60\n",
            "246/246 [==============================] - 40s 161ms/step - loss: 0.4480 - accuracy: 0.8519 - top-5-accuracy: 0.9945 - val_loss: 0.5925 - val_accuracy: 0.8081 - val_top-5-accuracy: 0.9847\n",
            "Epoch 48/60\n",
            "246/246 [==============================] - 39s 160ms/step - loss: 0.4471 - accuracy: 0.8523 - top-5-accuracy: 0.9944 - val_loss: 0.6108 - val_accuracy: 0.8056 - val_top-5-accuracy: 0.9842\n",
            "Epoch 49/60\n",
            "246/246 [==============================] - 46s 186ms/step - loss: 0.4361 - accuracy: 0.8565 - top-5-accuracy: 0.9948 - val_loss: 0.5579 - val_accuracy: 0.8244 - val_top-5-accuracy: 0.9837\n",
            "Epoch 50/60\n",
            "246/246 [==============================] - 42s 169ms/step - loss: 0.4258 - accuracy: 0.8575 - top-5-accuracy: 0.9947 - val_loss: 0.5977 - val_accuracy: 0.8071 - val_top-5-accuracy: 0.9832\n",
            "Epoch 51/60\n",
            "246/246 [==============================] - 40s 162ms/step - loss: 0.4411 - accuracy: 0.8513 - top-5-accuracy: 0.9954 - val_loss: 0.5445 - val_accuracy: 0.8214 - val_top-5-accuracy: 0.9873\n",
            "Epoch 52/60\n",
            "246/246 [==============================] - 40s 162ms/step - loss: 0.3964 - accuracy: 0.8674 - top-5-accuracy: 0.9954 - val_loss: 0.5941 - val_accuracy: 0.8081 - val_top-5-accuracy: 0.9847\n",
            "Epoch 53/60\n",
            "246/246 [==============================] - 40s 163ms/step - loss: 0.4208 - accuracy: 0.8611 - top-5-accuracy: 0.9943 - val_loss: 0.5406 - val_accuracy: 0.8198 - val_top-5-accuracy: 0.9873\n",
            "Epoch 54/60\n",
            "246/246 [==============================] - 40s 162ms/step - loss: 0.3986 - accuracy: 0.8684 - top-5-accuracy: 0.9962 - val_loss: 0.5657 - val_accuracy: 0.8239 - val_top-5-accuracy: 0.9827\n",
            "Epoch 55/60\n",
            "246/246 [==============================] - 40s 161ms/step - loss: 0.4103 - accuracy: 0.8672 - top-5-accuracy: 0.9955 - val_loss: 0.5449 - val_accuracy: 0.8173 - val_top-5-accuracy: 0.9863\n",
            "Epoch 56/60\n",
            "246/246 [==============================] - 40s 161ms/step - loss: 0.4043 - accuracy: 0.8620 - top-5-accuracy: 0.9957 - val_loss: 0.5373 - val_accuracy: 0.8204 - val_top-5-accuracy: 0.9847\n",
            "Epoch 57/60\n",
            "246/246 [==============================] - 44s 177ms/step - loss: 0.4024 - accuracy: 0.8648 - top-5-accuracy: 0.9962 - val_loss: 0.5240 - val_accuracy: 0.8290 - val_top-5-accuracy: 0.9878\n",
            "Epoch 58/60\n",
            "246/246 [==============================] - 40s 163ms/step - loss: 0.3880 - accuracy: 0.8742 - top-5-accuracy: 0.9957 - val_loss: 0.5704 - val_accuracy: 0.8224 - val_top-5-accuracy: 0.9858\n",
            "Epoch 59/60\n",
            "246/246 [==============================] - 47s 191ms/step - loss: 0.3768 - accuracy: 0.8737 - top-5-accuracy: 0.9964 - val_loss: 0.5261 - val_accuracy: 0.8356 - val_top-5-accuracy: 0.9898\n",
            "Epoch 60/60\n",
            "246/246 [==============================] - 44s 178ms/step - loss: 0.3754 - accuracy: 0.8719 - top-5-accuracy: 0.9967 - val_loss: 0.5482 - val_accuracy: 0.8427 - val_top-5-accuracy: 0.9837\n",
            "103/103 [==============================] - 6s 59ms/step - loss: 0.5715 - accuracy: 0.8174 - top-5-accuracy: 0.9866\n",
            "Test accuracy: 81.74%\n",
            "Test top 5 accuracy: 98.66%\n"
          ]
        }
      ]
    },
    {
      "cell_type": "code",
      "metadata": {
        "id": "ySkGg4ZIL2aL",
        "colab": {
          "base_uri": "https://localhost:8080/",
          "height": 295
        },
        "outputId": "49ceac56-1373-416f-cf1d-e41eb974da00"
      },
      "source": [
        "import matplotlib.pyplot as plt\n",
        "plt.plot(history.history['accuracy'])\n",
        "plt.plot(history.history['val_accuracy'])\n",
        "plt.title('ViT Model Train vs Validation Accuracy Curve')\n",
        "plt.ylabel('accuracy')\n",
        "plt.xlabel('epoch')\n",
        "plt.legend(['train', 'val'], loc='upper left')\n",
        "plt.show()"
      ],
      "execution_count": null,
      "outputs": [
        {
          "output_type": "display_data",
          "data": {
            "image/png": "[encoded data removed]",
            "text/plain": [
              "<Figure size 432x288 with 1 Axes>"
            ]
          },
          "metadata": {
            "needs_background": "light"
          }
        }
      ]
    },
    {
      "cell_type": "code",
      "metadata": {
        "id": "rObZKFDaPrL4",
        "colab": {
          "base_uri": "https://localhost:8080/",
          "height": 295
        },
        "outputId": "706052f4-bbe6-4b07-d6c1-c0cca2105087"
      },
      "source": [
        "plt.plot(history.history['loss'])\n",
        "plt.plot(history.history['val_loss'])\n",
        "plt.title('ViT Model Train vs Validation Loss Curve')\n",
        "plt.ylabel('accuracy')\n",
        "plt.xlabel('epoch')\n",
        "plt.legend(['train', 'val'], loc='upper left')\n",
        "plt.show()"
      ],
      "execution_count": null,
      "outputs": [
        {
          "output_type": "display_data",
          "data": {
            "image/png": "[encoded data removed]",
            "text/plain": [
              "<Figure size 432x288 with 1 Axes>"
            ]
          },
          "metadata": {
            "needs_background": "light"
          }
        }
      ]
    },
    {
      "cell_type": "code",
      "metadata": {
        "id": "BAQ6wuze2RgL",
        "colab": {
          "base_uri": "https://localhost:8080/"
        },
        "outputId": "7b0aa73a-f169-4d5a-bfff-7326d1c6ef06"
      },
      "source": [
        "from sklearn.metrics import plot_confusion_matrix\n",
        "from sklearn.metrics import ConfusionMatrixDisplay, confusion_matrix\n",
        "np.set_printoptions(precision=2)\n",
        "class_names = ['angry', 'disgust', 'fear','happy', 'mockery', 'neutral','sad', 'surprise', 'think', 'wink']\n",
        "\n",
        "from sklearn.metrics import plot_confusion_matrix\n",
        "import matplotlib.pyplot as plt  \n",
        "from sklearn.metrics import ConfusionMatrixDisplay\n",
        "Y_pred = vit_classifier.predict_generator(x_test)\n",
        "y_pred = np.argmax(Y_pred, axis=1)\n",
        "\n",
        "cm = confusion_matrix(y_test, y_pred)\n",
        "#plot_confusion_matrix(X = y_pred, y_true=y_test, labels = class_names, normalize=False)"
      ],
      "execution_count": null,
      "outputs": [
        {
          "output_type": "stream",
          "name": "stderr",
          "text": [
            "/usr/local/lib/python3.7/dist-packages/ipykernel_launcher.py:9: UserWarning: `Model.predict_generator` is deprecated and will be removed in a future version. Please use `Model.predict`, which supports generators.\n",
            "  if __name__ == '__main__':\n"
          ]
        }
      ]
    },
    {
      "cell_type": "code",
      "metadata": {
        "id": "pEuGyHrYLwjk",
        "colab": {
          "base_uri": "https://localhost:8080/",
          "height": 746
        },
        "outputId": "3f5446d3-0208-4beb-fad0-4d795c55ce37"
      },
      "source": [
        "import matplotlib.pyplot as plt\n",
        "import itertools \n",
        "def plot_confusion_matrix(cm, classes, normalize=True, title='Confusion matrix', cmap=plt.cm.Blues):\n",
        "\n",
        "    \"\"\"\n",
        "\n",
        "    This function prints and plots the confusion matrix.\n",
        "\n",
        "    Normalization can be applied by setting `normalize=True`.\n",
        "\n",
        "    \"\"\"\n",
        "\n",
        "    plt.figure(figsize=(10,10))\n",
        "\n",
        "\n",
        "\n",
        "    plt.imshow(cm, interpolation='nearest', cmap=cmap)\n",
        "\n",
        "    plt.title(title)\n",
        "\n",
        "    plt.colorbar()\n",
        "\n",
        "\n",
        "\n",
        "    tick_marks = np.arange(len(classes))\n",
        "\n",
        "    plt.xticks(tick_marks, classes, rotation=45)\n",
        "\n",
        "    plt.yticks(tick_marks, classes)\n",
        "\n",
        "\n",
        "\n",
        "    if normalize:\n",
        "\n",
        "        cm = cm.astype('float') / cm.sum(axis=1)[:, np.newaxis]\n",
        "\n",
        "        cm = np.around(cm, decimals=2)\n",
        "\n",
        "        cm[np.isnan(cm)] = 0.0\n",
        "\n",
        "        print(\"Normalized confusion matrix\")\n",
        "\n",
        "    else:\n",
        "\n",
        "        print('Confusion matrix, without normalization')\n",
        "\n",
        "    thresh = cm.max() / 2.\n",
        "\n",
        "    for i, j in itertools.product(range(cm.shape[0]), range(cm.shape[1])):\n",
        "\n",
        "        plt.text(j, i, cm[i, j],\n",
        "\n",
        "                 horizontalalignment=\"center\",\n",
        "\n",
        "                 color=\"white\" if cm[i, j] > thresh else \"black\")\n",
        "\n",
        "    plt.tight_layout()\n",
        "\n",
        "    plt.ylabel('True label')\n",
        "\n",
        "    plt.xlabel('Predicted label')\n",
        "\n",
        "plot_confusion_matrix(cm, class_names)"
      ],
      "execution_count": null,
      "outputs": [
        {
          "output_type": "stream",
          "name": "stdout",
          "text": [
            "Normalized confusion matrix\n"
          ]
        },
        {
          "output_type": "display_data",
          "data": {
            "image/png": "[encoded data removed]",
            "text/plain": [
              "<Figure size 720x720 with 2 Axes>"
            ]
          },
          "metadata": {
            "needs_background": "light"
          }
        }
      ]
    }
  ]
}